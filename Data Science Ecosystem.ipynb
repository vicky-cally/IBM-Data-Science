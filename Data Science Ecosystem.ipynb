{
 "cells": [
  {
   "cell_type": "markdown",
   "id": "78d0f25e",
   "metadata": {},
   "source": [
    "# Data Science Tools and Ecosystem"
   ]
  },
  {
   "cell_type": "markdown",
   "id": "440556b1",
   "metadata": {},
   "source": [
    "## In this notebook, Data Science Tools and Ecosystem are summarized."
   ]
  },
  {
   "cell_type": "markdown",
   "id": "315ebe31",
   "metadata": {},
   "source": [
    "# Objectives\n",
    "\n",
    "- Understand the importance of data science in various domains.\n",
    "- Explore popular programming languages for data science.\n",
    "- Learn about key concepts and responsibilities of a data scientist.\n",
    "- Gain insights into the tools and environments used in data science.\n",
    "- Explore examples of evaluating arithmetic expressions in Python."
   ]
  },
  {
   "cell_type": "code",
   "execution_count": null,
   "id": "c1567749",
   "metadata": {},
   "outputs": [],
   "source": []
  },
  {
   "cell_type": "markdown",
   "id": "06177bf1",
   "metadata": {},
   "source": [
    "### Some of the popular languages that Data Scientists use are:\n",
    "\n",
    "#### 1. Numpy\n",
    "#### 2. Pandas\n",
    "#### 3. Matplotlib\n",
    "#### 4. Seaborn"
   ]
  },
  {
   "cell_type": "markdown",
   "id": "e419e51d",
   "metadata": {},
   "source": [
    "|Data Science Tools  |\n",
    "|----------------------|\n",
    "|Jupyter Notebook      |\n",
    "|RStudio               |\n",
    "|VS Code               |"
   ]
  },
  {
   "cell_type": "markdown",
   "id": "2f11fff0",
   "metadata": {},
   "source": [
    "| Name   | Age  | City      |\n",
    "|--------|------|-----------|\n",
    "| John   | 25   | New York   |\n",
    "| Alice  | 30   | San Francisco |\n"
   ]
  },
  {
   "cell_type": "code",
   "execution_count": null,
   "id": "8c896d91",
   "metadata": {},
   "outputs": [],
   "source": []
  },
  {
   "cell_type": "markdown",
   "id": "66bf40f2",
   "metadata": {},
   "source": [
    "# Examples of Evaluating Arithmetic Expressions in Python\n",
    "\n",
    "### Below are a few examples of how you can evaluate arithmetic expressions in Python.\n"
   ]
  },
  {
   "cell_type": "code",
   "execution_count": 2,
   "id": "2ca41dab",
   "metadata": {},
   "outputs": [
    {
     "data": {
      "text/plain": [
       "17"
      ]
     },
     "execution_count": 2,
     "metadata": {},
     "output_type": "execute_result"
    }
   ],
   "source": [
    "# This a simple arithmetic expression to mutiply then add integers\n",
    "\n",
    "(3*4)+5"
   ]
  },
  {
   "cell_type": "code",
   "execution_count": 3,
   "id": "2a50cdc5",
   "metadata": {},
   "outputs": [
    {
     "name": "stdout",
     "output_type": "stream",
     "text": [
      "200 minutes is 3.3333333333333335 hours\n"
     ]
    }
   ],
   "source": [
    "# This will convert 200 minutes to hours by diving by 60.\n",
    "conversion =200/60\n",
    "print(f'200 minutes is {conversion} hours' )"
   ]
  },
  {
   "cell_type": "markdown",
   "id": "ab3d7c90",
   "metadata": {},
   "source": [
    "## Author\n",
    "Dikeh Calista"
   ]
  },
  {
   "cell_type": "code",
   "execution_count": null,
   "id": "82ccde10",
   "metadata": {},
   "outputs": [],
   "source": []
  },
  {
   "cell_type": "code",
   "execution_count": null,
   "id": "a5a028fc",
   "metadata": {},
   "outputs": [],
   "source": []
  },
  {
   "cell_type": "code",
   "execution_count": null,
   "id": "3e9e5ea3",
   "metadata": {},
   "outputs": [],
   "source": []
  },
  {
   "cell_type": "code",
   "execution_count": null,
   "id": "0b317e85",
   "metadata": {},
   "outputs": [],
   "source": []
  },
  {
   "cell_type": "code",
   "execution_count": null,
   "id": "92a3c83a",
   "metadata": {},
   "outputs": [],
   "source": []
  }
 ],
 "metadata": {
  "kernelspec": {
   "display_name": "Python 3 (ipykernel)",
   "language": "python",
   "name": "python3"
  },
  "language_info": {
   "codemirror_mode": {
    "name": "ipython",
    "version": 3
   },
   "file_extension": ".py",
   "mimetype": "text/x-python",
   "name": "python",
   "nbconvert_exporter": "python",
   "pygments_lexer": "ipython3",
   "version": "3.11.5"
  }
 },
 "nbformat": 4,
 "nbformat_minor": 5
}

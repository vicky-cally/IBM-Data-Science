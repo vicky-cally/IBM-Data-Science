{
 "cells": [
  {
   "cell_type": "markdown",
   "id": "7da267d4",
   "metadata": {},
   "source": [
    "<center>\n",
    "    <img src=\"https://cf-courses-data.s3.us.cloud-object-storage.appdomain.cloud/IBMDeveloperSkillsNetwork-DS0105EN-SkillsNetwork/labs/Module2/images/SN_web_lightmode.png\" width=\"300\" alt=\"cognitiveclass.ai logo\">\n",
    "</center>\n"
   ]
  },
  {
   "cell_type": "markdown",
   "id": "b5bfa76d",
   "metadata": {},
   "source": [
    "#### Add your code below following the instructions given in the course"
   ]
  },
  {
   "cell_type": "markdown",
   "id": "1cee0b60",
   "metadata": {},
   "source": [
    "# Data Science Tools and Ecosystem"
   ]
  },
  {
   "cell_type": "markdown",
   "id": "9a04c690",
   "metadata": {},
   "source": [
    "## In this notebook, Data Science Tools and Ecosystem are summarized."
   ]
  },
  {
   "cell_type": "markdown",
   "id": "3e39a142",
   "metadata": {},
   "source": [
    "# Objectives\n",
    "\n",
    "- Understand the importance of data science in various domains.\n",
    "- Explore popular programming languages for data science.\n",
    "- Learn about key concepts and responsibilities of a data scientist.\n",
    "- Gain insights into the tools and environments used in data science.\n",
    "- Explore examples of evaluating arithmetic expressions in Python."
   ]
  },
  {
   "cell_type": "markdown",
   "id": "0bea4976",
   "metadata": {},
   "source": [
    "### Some of the popular languages that Data Scientists use are:\n",
    "\n",
    "#### 1. Numpy\n",
    "#### 2. Pandas\n",
    "#### 3. Matplotlib\n",
    "#### 4. Seaborn"
   ]
  },
  {
   "cell_type": "markdown",
   "id": "f9d3f3ef",
   "metadata": {},
   "source": [
    "|Data Science Tools  |\n",
    "|----------------------|\n",
    "|Jupyter Notebook      |\n",
    "|RStudio               |\n",
    "|VS Code               |"
   ]
  },
  {
   "cell_type": "markdown",
   "id": "e8bf4529",
   "metadata": {},
   "source": [
    "| Name   | Age  | City      |\n",
    "|--------|------|-----------|\n",
    "| John   | 25   | New York   |\n",
    "| Alice  | 30   | San Francisco |\n"
   ]
  },
  {
   "cell_type": "markdown",
   "id": "d022ea5a",
   "metadata": {},
   "source": [
    "# Examples of Evaluating Arithmetic Expressions in Python\n",
    "\n",
    "### Below are a few examples of how you can evaluate arithmetic expressions in Python.\n"
   ]
  },
  {
   "cell_type": "code",
   "execution_count": 2,
   "id": "4dbc3e1d",
   "metadata": {},
   "outputs": [
    {
     "data": {
      "text/plain": [
       "17"
      ]
     },
     "execution_count": 2,
     "metadata": {},
     "output_type": "execute_result"
    }
   ],
   "source": [
    "# This a simple arithmetic expression to mutiply then add integers\n",
    "\n",
    "(3*4)+5"
   ]
  },
  {
   "cell_type": "code",
   "execution_count": 3,
   "id": "c2a17e87",
   "metadata": {},
   "outputs": [
    {
     "name": "stdout",
     "output_type": "stream",
     "text": [
      "200 minutes is 3.3333333333333335 hours\n"
     ]
    }
   ],
   "source": [
    "# This will convert 200 minutes to hours by diving by 60.\n",
    "conversion =200/60\n",
    "print(f'200 minutes is {conversion} hours' )"
   ]
  },
  {
   "cell_type": "markdown",
   "id": "be6e8d0f",
   "metadata": {},
   "source": [
    "## Author\n",
    "Dikeh Calista"
   ]
  },
  {
   "cell_type": "markdown",
   "id": "59f10238",
   "metadata": {},
   "source": []
  },
  {
   "cell_type": "code",
   "execution_count": null,
   "id": "f2cd1061",
   "metadata": {},
   "outputs": [],
   "source": []
  },
  {
   "cell_type": "code",
   "execution_count": null,
   "id": "0a51d036",
   "metadata": {},
   "outputs": [],
   "source": []
  },
  {
   "cell_type": "code",
   "execution_count": null,
   "id": "1dedbe42",
   "metadata": {},
   "outputs": [],
   "source": []
  },
  {
   "cell_type": "code",
   "execution_count": null,
   "id": "834c3b13",
   "metadata": {},
   "outputs": [],
   "source": []
  }
 ],
 "metadata": {
  "kernelspec": {
   "display_name": "Python 3 (ipykernel)",
   "language": "python",
   "name": "python3"
  },
  "language_info": {
   "codemirror_mode": {
    "name": "ipython",
    "version": 3
   },
   "file_extension": ".py",
   "mimetype": "text/x-python",
   "name": "python",
   "nbconvert_exporter": "python",
   "pygments_lexer": "ipython3",
   "version": "3.11.5"
  }
 },
 "nbformat": 4,
 "nbformat_minor": 5
}
